{
 "cells": [
  {
   "cell_type": "code",
   "execution_count": 1,
   "id": "85526287-d542-4ce6-a752-9a25e4a27907",
   "metadata": {},
   "outputs": [],
   "source": [
    "from joblib import load\n",
    "model = load('FinalModel.joblib')"
   ]
  },
  {
   "cell_type": "code",
   "execution_count": null,
   "id": "c650512d-ea57-45ff-b836-8fda216329ad",
   "metadata": {},
   "outputs": [],
   "source": [
    "model.predict(features)\n",
    "# provide features and make predictions"
   ]
  }
 ],
 "metadata": {
  "kernelspec": {
   "display_name": "Python 3 (ipykernel)",
   "language": "python",
   "name": "python3"
  },
  "language_info": {
   "codemirror_mode": {
    "name": "ipython",
    "version": 3
   },
   "file_extension": ".py",
   "mimetype": "text/x-python",
   "name": "python",
   "nbconvert_exporter": "python",
   "pygments_lexer": "ipython3",
   "version": "3.13.2"
  }
 },
 "nbformat": 4,
 "nbformat_minor": 5
}
